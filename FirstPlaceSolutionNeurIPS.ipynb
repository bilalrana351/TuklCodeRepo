{
 "cells": [
  {
   "cell_type": "code",
   "execution_count": 1,
   "metadata": {},
   "outputs": [],
   "source": [
    "import torch\n",
    "import torch.nn as nn\n",
    "import torch.optim as optim\n",
    "import torch.nn.functional as F\n",
    "import numpy as np\n",
    "import pandas as pd\n",
    "from sklearn.preprocessing import StandardScaler\n",
    "import time\n",
    "from sklearn.preprocessing import OneHotEncoder"
   ]
  },
  {
   "cell_type": "code",
   "execution_count": 2,
   "metadata": {},
   "outputs": [],
   "source": [
    "data = pd.read_csv(\"archive_3\\Liver_disease_data.csv\")"
   ]
  },
  {
   "cell_type": "code",
   "execution_count": 3,
   "metadata": {},
   "outputs": [],
   "source": [
    "def encode(name):\n",
    "    cat,val = pd.factorize(data[name])\n",
    "    data.drop(name,axis = 1)\n",
    "    data[name] = cat"
   ]
  },
  {
   "cell_type": "code",
   "execution_count": 4,
   "metadata": {},
   "outputs": [],
   "source": [
    "# One-hot encode the responded column\n",
    "data = pd.get_dummies(data, columns=[\"Diagnosis\"])"
   ]
  },
  {
   "cell_type": "code",
   "execution_count": 5,
   "metadata": {},
   "outputs": [],
   "source": [
    "dataset = data.loc[:,data.columns != 'Diagnosis_0']"
   ]
  },
  {
   "cell_type": "code",
   "execution_count": 6,
   "metadata": {},
   "outputs": [],
   "source": [
    "dataset = dataset.loc[:,dataset.columns != 'Diagnosis_1']"
   ]
  },
  {
   "cell_type": "code",
   "execution_count": 7,
   "metadata": {},
   "outputs": [],
   "source": [
    "labels = data[[\"Diagnosis_0\",\"Diagnosis_1\"]].values"
   ]
  },
  {
   "cell_type": "code",
   "execution_count": 8,
   "metadata": {},
   "outputs": [],
   "source": [
    "# Normalizing the data\n",
    "scaler = StandardScaler()\n",
    "dataset = scaler.fit_transform(dataset)"
   ]
  },
  {
   "cell_type": "code",
   "execution_count": 9,
   "metadata": {},
   "outputs": [],
   "source": [
    "dataset = torch.tensor(dataset, dtype = torch.float32)\n",
    "labels = torch.tensor(labels, dtype = torch.float32)"
   ]
  },
  {
   "cell_type": "code",
   "execution_count": 10,
   "metadata": {},
   "outputs": [],
   "source": [
    "class LogisticRegressionModel(nn.Module):\n",
    "    def __init__(self, input_dim, num_classes):\n",
    "        super(LogisticRegressionModel, self).__init__()\n",
    "        self.linear = nn.Linear(input_dim, num_classes)\n",
    "    \n",
    "    def forward(self, x):\n",
    "        logits = self.linear(x)\n",
    "\n",
    "        probabilities = F.softmax(logits, dim = 1)\n",
    "\n",
    "        return probabilities"
   ]
  },
  {
   "cell_type": "code",
   "execution_count": 11,
   "metadata": {},
   "outputs": [],
   "source": [
    "model = LogisticRegressionModel(dataset.shape[1],2)\n",
    "criterion = nn.CrossEntropyLoss()\n",
    "optimizer = optim.Adam(model.parameters(), lr = 0.1)"
   ]
  },
  {
   "cell_type": "code",
   "execution_count": 12,
   "metadata": {},
   "outputs": [],
   "source": [
    "epochs = 50"
   ]
  },
  {
   "cell_type": "code",
   "execution_count": 13,
   "metadata": {},
   "outputs": [
    {
     "name": "stdout",
     "output_type": "stream",
     "text": [
      "Epoch 1/50, Loss: 0.7383216023445129\n",
      "Epoch 2/50, Loss: 0.6518785357475281\n",
      "Epoch 3/50, Loss: 0.5923824310302734\n",
      "Epoch 4/50, Loss: 0.5563733577728271\n",
      "Epoch 5/50, Loss: 0.5354049801826477\n",
      "Epoch 6/50, Loss: 0.5225387811660767\n",
      "Epoch 7/50, Loss: 0.5137298703193665\n",
      "Epoch 8/50, Loss: 0.5070165395736694\n",
      "Epoch 9/50, Loss: 0.501541018486023\n",
      "Epoch 10/50, Loss: 0.4969373643398285\n",
      "Epoch 11/50, Loss: 0.49303877353668213\n",
      "Epoch 12/50, Loss: 0.4897485375404358\n",
      "Epoch 13/50, Loss: 0.48698893189430237\n",
      "Epoch 14/50, Loss: 0.4846881330013275\n",
      "Epoch 15/50, Loss: 0.4827801585197449\n",
      "Epoch 16/50, Loss: 0.48120632767677307\n",
      "Epoch 17/50, Loss: 0.4799148738384247\n",
      "Epoch 18/50, Loss: 0.47885942459106445\n",
      "Epoch 19/50, Loss: 0.477999210357666\n",
      "Epoch 20/50, Loss: 0.47730016708374023\n",
      "Epoch 21/50, Loss: 0.4767358899116516\n",
      "Epoch 22/50, Loss: 0.4762864112854004\n",
      "Epoch 23/50, Loss: 0.4759362041950226\n",
      "Epoch 24/50, Loss: 0.47567105293273926\n",
      "Epoch 25/50, Loss: 0.4754762053489685\n",
      "Epoch 26/50, Loss: 0.4753357768058777\n",
      "Epoch 27/50, Loss: 0.475233256816864\n",
      "Epoch 28/50, Loss: 0.47515302896499634\n",
      "Epoch 29/50, Loss: 0.47508105635643005\n",
      "Epoch 30/50, Loss: 0.4750067889690399\n",
      "Epoch 31/50, Loss: 0.47492316365242004\n",
      "Epoch 32/50, Loss: 0.47482672333717346\n",
      "Epoch 33/50, Loss: 0.47471776604652405\n",
      "Epoch 34/50, Loss: 0.47459885478019714\n",
      "Epoch 35/50, Loss: 0.4744744598865509\n",
      "Epoch 36/50, Loss: 0.47434958815574646\n",
      "Epoch 37/50, Loss: 0.4742293357849121\n",
      "Epoch 38/50, Loss: 0.4741177260875702\n",
      "Epoch 39/50, Loss: 0.47401782870292664\n",
      "Epoch 40/50, Loss: 0.4739312529563904\n",
      "Epoch 41/50, Loss: 0.47385820746421814\n",
      "Epoch 42/50, Loss: 0.4737980365753174\n",
      "Epoch 43/50, Loss: 0.4737492799758911\n",
      "Epoch 44/50, Loss: 0.47371000051498413\n",
      "Epoch 45/50, Loss: 0.4736781120300293\n",
      "Epoch 46/50, Loss: 0.473651647567749\n",
      "Epoch 47/50, Loss: 0.473628968000412\n",
      "Epoch 48/50, Loss: 0.4736086130142212\n",
      "Epoch 49/50, Loss: 0.4735894799232483\n",
      "Epoch 50/50, Loss: 0.47357091307640076\n",
      "Training took: 314.8975372314453 milliseconds\n"
     ]
    }
   ],
   "source": [
    "# This will keep track of the total training time\n",
    "startTime = time.time()\n",
    "for epoch in range(epochs):\n",
    "    model.train()\n",
    "    outputs = model(dataset)\n",
    "    loss = criterion(outputs, labels)\n",
    "    optimizer.zero_grad()\n",
    "    loss.backward()\n",
    "    optimizer.step()\n",
    "    print(f\"Epoch {epoch+1}/{epochs}, Loss: {loss.item()}\")\n",
    "print(f\"Training took: {(time.time() - startTime) * 1000} milliseconds\")"
   ]
  },
  {
   "cell_type": "code",
   "execution_count": 14,
   "metadata": {},
   "outputs": [
    {
     "data": {
      "text/plain": [
       "LogisticRegressionModel(\n",
       "  (linear): Linear(in_features=10, out_features=2, bias=True)\n",
       ")"
      ]
     },
     "execution_count": 14,
     "metadata": {},
     "output_type": "execute_result"
    }
   ],
   "source": [
    "model.eval()"
   ]
  },
  {
   "cell_type": "code",
   "execution_count": 15,
   "metadata": {},
   "outputs": [
    {
     "name": "stdout",
     "output_type": "stream",
     "text": [
      "Accuracy: 0.8341176470588235\n"
     ]
    }
   ],
   "source": [
    "# Evaluate the accuracy of the model\n",
    "with torch.no_grad():\n",
    "    outputs = model(dataset)\n",
    "    _, predicted = torch.max(outputs, 1)\n",
    "    correct = (predicted == torch.max(labels, 1)[1]).sum().item()\n",
    "    accuracy = correct/dataset.shape[0]\n",
    "    print(f\"Accuracy: {accuracy}\")"
   ]
  },
  {
   "cell_type": "code",
   "execution_count": 16,
   "metadata": {},
   "outputs": [],
   "source": [
    "# Lets decide on a subset of data we want to forget\n",
    "# Lets choose it, for example, to be the first ten images in the dataset\n",
    "forgetSet = dataset[:3]\n",
    "forgetLabels = labels[:3]"
   ]
  },
  {
   "cell_type": "code",
   "execution_count": 17,
   "metadata": {},
   "outputs": [],
   "source": [
    "# This will be our retain set\n",
    "retainSet = dataset[3:]\n",
    "retainLabels = labels[3:]"
   ]
  },
  {
   "cell_type": "code",
   "execution_count": 18,
   "metadata": {},
   "outputs": [
    {
     "name": "stdout",
     "output_type": "stream",
     "text": [
      "tensor([[0.1110, 0.7012, 0.9332,  ..., 0.9837, 0.9561, 0.9016],\n",
      "        [0.1052, 0.7042, 0.9396,  ..., 0.9908, 0.9628, 0.9075],\n",
      "        [0.8254, 0.3317, 0.1377,  ..., 0.0955, 0.1186, 0.1641]],\n",
      "       grad_fn=<MmBackward0>)\n"
     ]
    }
   ],
   "source": [
    "# Now we will start with the unlearning process\n",
    "# Here the dot product is comparitively less\n",
    "print(((model(forgetSet) @ model(retainSet).T)))"
   ]
  },
  {
   "cell_type": "code",
   "execution_count": 19,
   "metadata": {},
   "outputs": [],
   "source": [
    "def findAccuracy(model,retainSet,state):\n",
    "    # Before unlearning the performance is\n",
    "    model.eval()\n",
    "    with torch.no_grad():\n",
    "        outputs = model(retainSet)\n",
    "        outputs = outputs.numpy()\n",
    "        outputs = np.where(outputs >= 0.5, 1, 0)\n",
    "        accuracy = np.mean(outputs == retainLabels.numpy())\n",
    "        print(f\"Accuracy {state} unlearning: {accuracy}\")"
   ]
  },
  {
   "cell_type": "markdown",
   "metadata": {},
   "source": [
    "This is the original loss on the forget set"
   ]
  },
  {
   "cell_type": "code",
   "execution_count": 20,
   "metadata": {},
   "outputs": [
    {
     "name": "stdout",
     "output_type": "stream",
     "text": [
      "Previous Loss on Forget Set:  0.33569732308387756\n"
     ]
    }
   ],
   "source": [
    "print(\"Previous Loss on Forget Set: \",criterion(model(forgetSet),forgetLabels).item())"
   ]
  },
  {
   "cell_type": "markdown",
   "metadata": {},
   "source": [
    "This is the previous loss on the retain set"
   ]
  },
  {
   "cell_type": "code",
   "execution_count": 21,
   "metadata": {},
   "outputs": [
    {
     "name": "stdout",
     "output_type": "stream",
     "text": [
      "Previous loss on the retain set:  0.47379621863365173\n"
     ]
    }
   ],
   "source": [
    "print(\"Previous loss on the retain set: \",criterion(model(retainSet),retainLabels).item())"
   ]
  },
  {
   "cell_type": "code",
   "execution_count": 22,
   "metadata": {},
   "outputs": [],
   "source": [
    "# Now we will unlearn the forget set\n",
    "criterion = nn.CrossEntropyLoss()\n",
    "optimizer = optim.SGD(model.parameters(), lr = 0.01)"
   ]
  },
  {
   "cell_type": "code",
   "execution_count": 23,
   "metadata": {},
   "outputs": [],
   "source": [
    "# For the outputs to the forget set\n",
    "model.train()\n",
    "forgetOutputs = model(forgetSet)"
   ]
  },
  {
   "cell_type": "code",
   "execution_count": 24,
   "metadata": {},
   "outputs": [],
   "source": [
    "# This will be the uniform label\n",
    "uniformLabel = torch.ones_like(forgetOutputs) / forgetOutputs.shape[1]"
   ]
  },
  {
   "cell_type": "code",
   "execution_count": 25,
   "metadata": {},
   "outputs": [
    {
     "data": {
      "text/plain": [
       "tensor([[0.5000, 0.5000],\n",
       "        [0.5000, 0.5000],\n",
       "        [0.5000, 0.5000]])"
      ]
     },
     "execution_count": 25,
     "metadata": {},
     "output_type": "execute_result"
    }
   ],
   "source": [
    "uniformLabel"
   ]
  },
  {
   "cell_type": "code",
   "execution_count": 26,
   "metadata": {},
   "outputs": [],
   "source": [
    "def kl_loss_sym(x,y):\n",
    "    kl_loss = nn.KLDivLoss(reduction='batchmean')\n",
    "    return kl_loss(nn.LogSoftmax(dim=-1)(x),y)"
   ]
  },
  {
   "cell_type": "code",
   "execution_count": 27,
   "metadata": {},
   "outputs": [],
   "source": [
    "optimizer_loss = optim.Adam(model.parameters(), lr = 0.01)"
   ]
  },
  {
   "cell_type": "code",
   "execution_count": 28,
   "metadata": {},
   "outputs": [
    {
     "name": "stdout",
     "output_type": "stream",
     "text": [
      "tensor([[0.0153, 0.9847],\n",
      "        [0.0092, 0.9908],\n",
      "        [0.8890, 0.1110]], grad_fn=<SoftmaxBackward0>)\n"
     ]
    }
   ],
   "source": [
    "for i in range(1):\n",
    "    model.train()\n",
    "    outputs = model(forgetSet)\n",
    "    optimizer_loss.zero_grad()\n",
    "    loss = kl_loss_sym(outputs, uniformLabel)\n",
    "    loss.backward()\n",
    "    optimizer_loss.step()\n",
    "    print(model(forgetSet))"
   ]
  },
  {
   "cell_type": "code",
   "execution_count": 29,
   "metadata": {},
   "outputs": [],
   "source": [
    "# Now after this initial step we will try to minimize the cosine similarity between the outputs\n"
   ]
  },
  {
   "cell_type": "code",
   "execution_count": 29,
   "metadata": {},
   "outputs": [],
   "source": [
    "optimizer_loss = optim.Adam(model.parameters(),lr = 0.1)\n",
    "optimizer = optim.Adam(model.parameters(),lr = 0.1)"
   ]
  },
  {
   "cell_type": "code",
   "execution_count": 30,
   "metadata": {},
   "outputs": [
    {
     "name": "stdout",
     "output_type": "stream",
     "text": [
      "Loss on forget is:  0.42367151379585266\n",
      "Loss on the overall dataset:  0.4756835997104645\n",
      "Loss on forget is:  0.569916844367981\n",
      "Loss on the overall dataset:  0.4814296364784241\n",
      "Loss on forget is:  0.6464361548423767\n",
      "Loss on the overall dataset:  0.48517605662345886\n",
      "Loss on forget is:  0.7528764605522156\n",
      "Loss on the overall dataset:  0.4894867241382599\n",
      "Loss on forget is:  0.7690455317497253\n",
      "Loss on the overall dataset:  0.4908082187175751\n",
      "Loss on forget is:  0.6944684386253357\n",
      "Loss on the overall dataset:  0.4896646738052368\n",
      "Loss on forget is:  0.574553906917572\n",
      "Loss on the overall dataset:  0.48814478516578674\n",
      "Loss on forget is:  0.5115971565246582\n",
      "Loss on the overall dataset:  0.48874956369400024\n",
      "Loss on forget is:  0.5311587452888489\n",
      "Loss on the overall dataset:  0.49225711822509766\n",
      "Loss on forget is:  0.6125810146331787\n",
      "Loss on the overall dataset:  0.4976508617401123\n",
      "Unlearning took: 135.30707359313965 milliseconds\n"
     ]
    }
   ],
   "source": [
    "# This will keep track of the total time for the unlearning\n",
    "startTime = time.time()\n",
    "epochs = 10\n",
    "for epoch in range(epochs):\n",
    "    model.train()\n",
    "    outputForget,outputRetain = model(forgetSet),model(retainSet).detach()\n",
    "    optimizer_loss.zero_grad()\n",
    "    loss = (-1 * nn.LogSoftmax(dim=-1)((outputForget @ outputRetain.T))).mean() \n",
    "    # To check if the cosine similarilty is minimized\n",
    "    loss.backward()\n",
    "    optimizer_loss.step()\n",
    "    print(\"Loss on forget is: \",criterion(model(forgetSet),forgetLabels).item())\n",
    "    print(\"Loss on the overall dataset: \",criterion(model(dataset),labels).item())\n",
    "print(f\"Unlearning took: {(time.time() - startTime) * 1000} milliseconds\")"
   ]
  },
  {
   "cell_type": "code",
   "execution_count": 31,
   "metadata": {},
   "outputs": [
    {
     "data": {
      "text/plain": [
       "tensor([[0.5091, 0.5157, 0.4840,  ..., 0.4771, 0.5129, 0.4791],\n",
       "        [0.4970, 0.4949, 0.5052,  ..., 0.5075, 0.4958, 0.5069],\n",
       "        [0.6197, 0.7073, 0.2891,  ..., 0.1978, 0.6708, 0.2236]],\n",
       "       grad_fn=<MmBackward0>)"
      ]
     },
     "execution_count": 31,
     "metadata": {},
     "output_type": "execute_result"
    }
   ],
   "source": [
    "model(forgetSet) @ outputRetain.T"
   ]
  },
  {
   "cell_type": "code",
   "execution_count": 32,
   "metadata": {},
   "outputs": [
    {
     "name": "stdout",
     "output_type": "stream",
     "text": [
      "[0.5228833  0.47711676] [0. 1.]\n",
      "[0.4925024  0.50749755] [0. 1.]\n",
      "[0.8024237  0.19757628] [1. 0.]\n"
     ]
    }
   ],
   "source": [
    "outputs = model(forgetSet)\n",
    "for val,label in zip(outputs,forgetLabels):\n",
    "    print(val.detach().numpy(),label.detach().numpy())"
   ]
  },
  {
   "cell_type": "markdown",
   "metadata": {},
   "source": [
    "As you can see the loss on the forget is now comparatively more than previously, but the loss in the retain samples is almost the same "
   ]
  },
  {
   "cell_type": "code",
   "execution_count": 33,
   "metadata": {},
   "outputs": [
    {
     "name": "stdout",
     "output_type": "stream",
     "text": [
      "Loss on forget is:  0.6125810146331787\n"
     ]
    }
   ],
   "source": [
    "print(\"Loss on forget is: \",criterion(model(forgetSet),forgetLabels).item())"
   ]
  },
  {
   "cell_type": "code",
   "execution_count": 34,
   "metadata": {},
   "outputs": [
    {
     "name": "stdout",
     "output_type": "stream",
     "text": [
      "Loss on retain is:  0.497447669506073\n"
     ]
    }
   ],
   "source": [
    "print(\"Loss on retain is: \",criterion(model(retainSet),retainLabels).item())"
   ]
  },
  {
   "cell_type": "markdown",
   "metadata": {},
   "source": [
    "We will now find out how much does retraining a model from scratch on the retain set helps"
   ]
  },
  {
   "cell_type": "code",
   "execution_count": 35,
   "metadata": {},
   "outputs": [
    {
     "name": "stdout",
     "output_type": "stream",
     "text": [
      "Epoch 1/50, Loss: 0.6899567246437073\n",
      "Epoch 2/50, Loss: 0.6234439611434937\n",
      "Epoch 3/50, Loss: 0.5785881876945496\n",
      "Epoch 4/50, Loss: 0.5519060492515564\n",
      "Epoch 5/50, Loss: 0.5355179905891418\n",
      "Epoch 6/50, Loss: 0.5237887501716614\n",
      "Epoch 7/50, Loss: 0.5145766735076904\n",
      "Epoch 8/50, Loss: 0.5071172118186951\n",
      "Epoch 9/50, Loss: 0.5010887980461121\n",
      "Epoch 10/50, Loss: 0.49628525972366333\n",
      "Epoch 11/50, Loss: 0.49250027537345886\n",
      "Epoch 12/50, Loss: 0.48950543999671936\n",
      "Epoch 13/50, Loss: 0.48707568645477295\n",
      "Epoch 14/50, Loss: 0.4850287139415741\n",
      "Epoch 15/50, Loss: 0.48325061798095703\n",
      "Epoch 16/50, Loss: 0.4816906452178955\n",
      "Epoch 17/50, Loss: 0.4803381860256195\n",
      "Epoch 18/50, Loss: 0.47919756174087524\n",
      "Epoch 19/50, Loss: 0.47827091813087463\n",
      "Epoch 20/50, Loss: 0.4775495231151581\n",
      "Epoch 21/50, Loss: 0.47701165080070496\n",
      "Epoch 22/50, Loss: 0.47662392258644104\n",
      "Epoch 23/50, Loss: 0.47634634375572205\n",
      "Epoch 24/50, Loss: 0.47613751888275146\n",
      "Epoch 25/50, Loss: 0.4759620726108551\n",
      "Epoch 26/50, Loss: 0.47579455375671387\n",
      "Epoch 27/50, Loss: 0.47562187910079956\n",
      "Epoch 28/50, Loss: 0.4754418134689331\n",
      "Epoch 29/50, Loss: 0.4752601385116577\n",
      "Epoch 30/50, Loss: 0.47508594393730164\n",
      "Epoch 31/50, Loss: 0.4749279320240021\n",
      "Epoch 32/50, Loss: 0.47479164600372314\n",
      "Epoch 33/50, Loss: 0.4746782183647156\n",
      "Epoch 34/50, Loss: 0.4745848476886749\n",
      "Epoch 35/50, Loss: 0.4745061993598938\n",
      "Epoch 36/50, Loss: 0.4744364023208618\n",
      "Epoch 37/50, Loss: 0.4743706285953522\n",
      "Epoch 38/50, Loss: 0.4743056297302246\n",
      "Epoch 39/50, Loss: 0.47424083948135376\n",
      "Epoch 40/50, Loss: 0.47417670488357544\n",
      "Epoch 41/50, Loss: 0.4741150736808777\n",
      "Epoch 42/50, Loss: 0.47405779361724854\n",
      "Epoch 43/50, Loss: 0.47400614619255066\n",
      "Epoch 44/50, Loss: 0.4739605486392975\n",
      "Epoch 45/50, Loss: 0.4739204943180084\n",
      "Epoch 46/50, Loss: 0.4738849103450775\n",
      "Epoch 47/50, Loss: 0.4738522171974182\n",
      "Epoch 48/50, Loss: 0.4738212525844574\n",
      "Epoch 49/50, Loss: 0.4737912714481354\n",
      "Epoch 50/50, Loss: 0.4737621545791626\n",
      "Retraining from scratch took 281.3997268676758 milliseconds\n"
     ]
    }
   ],
   "source": [
    "model = LogisticRegressionModel(dataset.shape[1],2)\n",
    "criterion = nn.CrossEntropyLoss()\n",
    "optimizer = optim.Adam(model.parameters(), lr = 0.1)\n",
    "epochs = 50\n",
    "startTime = time.time()\n",
    "for epoch in range(epochs):\n",
    "    model.train()\n",
    "    outputs = model(retainSet)\n",
    "    loss = criterion(outputs, retainLabels)\n",
    "    optimizer.zero_grad()\n",
    "    loss.backward()\n",
    "    optimizer.step()\n",
    "    print(f\"Epoch {epoch+1}/{epochs}, Loss: {loss.item()}\")\n",
    "print(f\"Retraining from scratch took {(time.time() - startTime) * 1000} milliseconds\")"
   ]
  },
  {
   "cell_type": "markdown",
   "metadata": {},
   "source": [
    "Hence, the unlearning here was twice as faster than the retraining, and just about as accurate"
   ]
  },
  {
   "cell_type": "markdown",
   "metadata": {},
   "source": []
  }
 ],
 "metadata": {
  "kernelspec": {
   "display_name": "Python 3",
   "language": "python",
   "name": "python3"
  },
  "language_info": {
   "codemirror_mode": {
    "name": "ipython",
    "version": 3
   },
   "file_extension": ".py",
   "mimetype": "text/x-python",
   "name": "python",
   "nbconvert_exporter": "python",
   "pygments_lexer": "ipython3",
   "version": "3.11.4"
  }
 },
 "nbformat": 4,
 "nbformat_minor": 2
}
